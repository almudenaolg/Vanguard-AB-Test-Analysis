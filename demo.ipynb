{
 "cells": [
  {
   "cell_type": "code",
   "execution_count": 94,
   "metadata": {},
   "outputs": [],
   "source": [
    "import pandas as pd\n",
    "import numpy as np\n",
    "import matplotlib.pyplot as plt\n",
    "import seaborn as sns"
   ]
  },
  {
   "cell_type": "code",
   "execution_count": 95,
   "metadata": {},
   "outputs": [],
   "source": [
    "from functions import *\n",
    "%reload_ext autoreload"
   ]
  },
  {
   "cell_type": "code",
   "execution_count": 96,
   "metadata": {},
   "outputs": [
    {
     "data": {
      "text/html": [
       "<div>\n",
       "<style scoped>\n",
       "    .dataframe tbody tr th:only-of-type {\n",
       "        vertical-align: middle;\n",
       "    }\n",
       "\n",
       "    .dataframe tbody tr th {\n",
       "        vertical-align: top;\n",
       "    }\n",
       "\n",
       "    .dataframe thead th {\n",
       "        text-align: right;\n",
       "    }\n",
       "</style>\n",
       "<table border=\"1\" class=\"dataframe\">\n",
       "  <thead>\n",
       "    <tr style=\"text-align: right;\">\n",
       "      <th></th>\n",
       "      <th>client_id</th>\n",
       "      <th>clnt_tenure_yr</th>\n",
       "      <th>clnt_tenure_mnth</th>\n",
       "      <th>clnt_age</th>\n",
       "      <th>gendr</th>\n",
       "      <th>num_accts</th>\n",
       "      <th>bal</th>\n",
       "      <th>calls_6_mnth</th>\n",
       "      <th>logons_6_mnth</th>\n",
       "    </tr>\n",
       "  </thead>\n",
       "  <tbody>\n",
       "    <tr>\n",
       "      <th>0</th>\n",
       "      <td>836976</td>\n",
       "      <td>6.0</td>\n",
       "      <td>73.0</td>\n",
       "      <td>60.5</td>\n",
       "      <td>U</td>\n",
       "      <td>2.0</td>\n",
       "      <td>45105.30</td>\n",
       "      <td>6.0</td>\n",
       "      <td>9.0</td>\n",
       "    </tr>\n",
       "    <tr>\n",
       "      <th>1</th>\n",
       "      <td>2304905</td>\n",
       "      <td>7.0</td>\n",
       "      <td>94.0</td>\n",
       "      <td>58.0</td>\n",
       "      <td>U</td>\n",
       "      <td>2.0</td>\n",
       "      <td>110860.30</td>\n",
       "      <td>6.0</td>\n",
       "      <td>9.0</td>\n",
       "    </tr>\n",
       "    <tr>\n",
       "      <th>2</th>\n",
       "      <td>1439522</td>\n",
       "      <td>5.0</td>\n",
       "      <td>64.0</td>\n",
       "      <td>32.0</td>\n",
       "      <td>U</td>\n",
       "      <td>2.0</td>\n",
       "      <td>52467.79</td>\n",
       "      <td>6.0</td>\n",
       "      <td>9.0</td>\n",
       "    </tr>\n",
       "    <tr>\n",
       "      <th>3</th>\n",
       "      <td>1562045</td>\n",
       "      <td>16.0</td>\n",
       "      <td>198.0</td>\n",
       "      <td>49.0</td>\n",
       "      <td>M</td>\n",
       "      <td>2.0</td>\n",
       "      <td>67454.65</td>\n",
       "      <td>3.0</td>\n",
       "      <td>6.0</td>\n",
       "    </tr>\n",
       "    <tr>\n",
       "      <th>4</th>\n",
       "      <td>5126305</td>\n",
       "      <td>12.0</td>\n",
       "      <td>145.0</td>\n",
       "      <td>33.0</td>\n",
       "      <td>F</td>\n",
       "      <td>2.0</td>\n",
       "      <td>103671.75</td>\n",
       "      <td>0.0</td>\n",
       "      <td>3.0</td>\n",
       "    </tr>\n",
       "  </tbody>\n",
       "</table>\n",
       "</div>"
      ],
      "text/plain": [
       "   client_id  clnt_tenure_yr  clnt_tenure_mnth  clnt_age gendr  num_accts  \\\n",
       "0     836976             6.0              73.0      60.5     U        2.0   \n",
       "1    2304905             7.0              94.0      58.0     U        2.0   \n",
       "2    1439522             5.0              64.0      32.0     U        2.0   \n",
       "3    1562045            16.0             198.0      49.0     M        2.0   \n",
       "4    5126305            12.0             145.0      33.0     F        2.0   \n",
       "\n",
       "         bal  calls_6_mnth  logons_6_mnth  \n",
       "0   45105.30           6.0            9.0  \n",
       "1  110860.30           6.0            9.0  \n",
       "2   52467.79           6.0            9.0  \n",
       "3   67454.65           3.0            6.0  \n",
       "4  103671.75           0.0            3.0  "
      ]
     },
     "execution_count": 96,
     "metadata": {},
     "output_type": "execute_result"
    }
   ],
   "source": [
    "df_demo = pd.read_csv('data/df_final_demo.txt')\n",
    "df_demo.head()"
   ]
  },
  {
   "cell_type": "code",
   "execution_count": 97,
   "metadata": {},
   "outputs": [
    {
     "name": "stderr",
     "output_type": "stream",
     "text": [
      "c:\\Users\\anano\\OneDrive\\Documentos\\Ironhack\\semana_5\\project_semana_5\\Vanguard-AB-Test-Analysis\\functions.py:36: SettingWithCopyWarning: \n",
      "A value is trying to be set on a copy of a slice from a DataFrame\n",
      "\n",
      "See the caveats in the documentation: https://pandas.pydata.org/pandas-docs/stable/user_guide/indexing.html#returning-a-view-versus-a-copy\n",
      "  df_cleaned.drop_duplicates(inplace=True)\n"
     ]
    }
   ],
   "source": [
    "df_demo = remove_nulls_and_duplicates(df_demo, threshold=0.8)"
   ]
  },
  {
   "cell_type": "code",
   "execution_count": 98,
   "metadata": {},
   "outputs": [],
   "source": [
    "df_demo = rename_columns_1(df_demo)"
   ]
  },
  {
   "cell_type": "code",
   "execution_count": 99,
   "metadata": {},
   "outputs": [],
   "source": [
    "df_demo = mean_fill_missing_values(df_demo, 'client_age')"
   ]
  },
  {
   "cell_type": "code",
   "execution_count": 100,
   "metadata": {},
   "outputs": [],
   "source": [
    "df_demo = convert_to_categorical(df_demo, 'gender')"
   ]
  },
  {
   "cell_type": "markdown",
   "metadata": {},
   "source": [
    "client_tenure_years = permanencia_anual_cliente (años completos)\n",
    "\n",
    "client_tenure_months = permanencia_mensual_cliente(meses, donde podemos apreciar si lleva por ejemplo un año y medio etc)\n",
    "\n",
    "calls_last_6_months: Indica el número de veces que un cliente ha llamado al servicio de atención al cliente o a un asesor financiero en los últimos 6 meses. Estas llamadas podrían estar relacionadas con preguntas sobre inversiones, gestión de cuentas, soporte técnico, o cualquier otra consulta.\n",
    "Posibles usos:\n",
    "Evaluar la necesidad de asistencia del cliente.\n",
    "Identificar clientes que necesitan más soporte o que podrían estar insatisfechos.\n",
    "Analizar la relación entre la frecuencia de llamadas y la rentabilidad de las inversiones del cliente.\n",
    "\n",
    "logons_last_6_months:\n",
    "Muestra cuántas veces un cliente ha iniciado sesión en su cuenta de la plataforma de inversiones en los últimos 6 meses. Esto refleja su nivel de actividad o engagement con la web de inversiones.\n",
    "Posibles usos:\n",
    "Medir el interés del cliente en su portafolio de inversiones.\n",
    "Identificar a los usuarios más comprometidos que están monitoreando sus inversiones con frecuencia.\n",
    "Detectar patrones de comportamiento, como picos de logins en momentos de alta volatilidad en los mercados financieros."
   ]
  },
  {
   "cell_type": "code",
   "execution_count": 101,
   "metadata": {},
   "outputs": [],
   "source": [
    "x_count = df_demo['gender'].value_counts()['X']\n",
    "\n"
   ]
  },
  {
   "cell_type": "code",
   "execution_count": 102,
   "metadata": {},
   "outputs": [],
   "source": [
    "df_demo = df_demo.drop(df_demo[df_demo['gender'] == 'X'].index) "
   ]
  },
  {
   "cell_type": "code",
   "execution_count": 103,
   "metadata": {},
   "outputs": [],
   "source": [
    "df_demo['gender'] = df_demo['gender'].cat.remove_unused_categories()\n"
   ]
  },
  {
   "cell_type": "markdown",
   "metadata": {},
   "source": [
    "the clients have 1 to 8 accounts"
   ]
  },
  {
   "cell_type": "code",
   "execution_count": 104,
   "metadata": {},
   "outputs": [
    {
     "data": {
      "text/plain": [
       "num_accounts\n",
       "2.0    55495\n",
       "3.0    12528\n",
       "4.0     2241\n",
       "5.0      284\n",
       "6.0       33\n",
       "7.0        8\n",
       "1.0        2\n",
       "8.0        1\n",
       "Name: count, dtype: int64"
      ]
     },
     "execution_count": 104,
     "metadata": {},
     "output_type": "execute_result"
    }
   ],
   "source": [
    "df_demo.num_accounts.value_counts()"
   ]
  },
  {
   "cell_type": "markdown",
   "metadata": {},
   "source": [
    "the majority have 2 accounts"
   ]
  },
  {
   "cell_type": "code",
   "execution_count": 105,
   "metadata": {},
   "outputs": [
    {
     "data": {
      "text/plain": [
       "2.0"
      ]
     },
     "execution_count": 105,
     "metadata": {},
     "output_type": "execute_result"
    }
   ],
   "source": [
    "df_demo.num_accounts.value_counts().idxmax()"
   ]
  },
  {
   "cell_type": "markdown",
   "metadata": {},
   "source": [
    "Los clientes han hecho de 0 a 7 llamadas"
   ]
  },
  {
   "cell_type": "code",
   "execution_count": 106,
   "metadata": {},
   "outputs": [
    {
     "data": {
      "text/plain": [
       "calls_last_6_months\n",
       "6.0    14111\n",
       "1.0    11015\n",
       "2.0    10252\n",
       "3.0     8752\n",
       "0.0     7732\n",
       "4.0     7174\n",
       "5.0     6627\n",
       "7.0     4929\n",
       "Name: count, dtype: int64"
      ]
     },
     "execution_count": 106,
     "metadata": {},
     "output_type": "execute_result"
    }
   ],
   "source": [
    "df_demo.calls_last_6_months.value_counts()"
   ]
  },
  {
   "cell_type": "markdown",
   "metadata": {},
   "source": [
    "La mayoria han hecho 6 llamadas"
   ]
  },
  {
   "cell_type": "code",
   "execution_count": 107,
   "metadata": {},
   "outputs": [
    {
     "data": {
      "text/plain": [
       "6.0"
      ]
     },
     "execution_count": 107,
     "metadata": {},
     "output_type": "execute_result"
    }
   ],
   "source": [
    "df_demo.calls_last_6_months.value_counts().idxmax()"
   ]
  },
  {
   "cell_type": "markdown",
   "metadata": {},
   "source": [
    "inicio de sesion de 1 a 9 veces"
   ]
  },
  {
   "cell_type": "code",
   "execution_count": 108,
   "metadata": {},
   "outputs": [
    {
     "data": {
      "text/plain": [
       "logons_last_6_months\n",
       "9.0    12349\n",
       "3.0    10243\n",
       "4.0    10219\n",
       "7.0     9893\n",
       "5.0     9253\n",
       "6.0     7878\n",
       "8.0     4810\n",
       "2.0     3009\n",
       "1.0     2938\n",
       "Name: count, dtype: int64"
      ]
     },
     "execution_count": 108,
     "metadata": {},
     "output_type": "execute_result"
    }
   ],
   "source": [
    "df_demo.logons_last_6_months.value_counts()"
   ]
  },
  {
   "cell_type": "markdown",
   "metadata": {},
   "source": [
    "la gran mayoria han accedido 9 veces"
   ]
  },
  {
   "cell_type": "code",
   "execution_count": 109,
   "metadata": {},
   "outputs": [
    {
     "data": {
      "text/plain": [
       "9.0"
      ]
     },
     "execution_count": 109,
     "metadata": {},
     "output_type": "execute_result"
    }
   ],
   "source": [
    "df_demo.logons_last_6_months.value_counts().idxmax()"
   ]
  },
  {
   "cell_type": "code",
   "execution_count": 110,
   "metadata": {},
   "outputs": [
    {
     "data": {
      "text/html": [
       "<div>\n",
       "<style scoped>\n",
       "    .dataframe tbody tr th:only-of-type {\n",
       "        vertical-align: middle;\n",
       "    }\n",
       "\n",
       "    .dataframe tbody tr th {\n",
       "        vertical-align: top;\n",
       "    }\n",
       "\n",
       "    .dataframe thead th {\n",
       "        text-align: right;\n",
       "    }\n",
       "</style>\n",
       "<table border=\"1\" class=\"dataframe\">\n",
       "  <thead>\n",
       "    <tr style=\"text-align: right;\">\n",
       "      <th></th>\n",
       "      <th>client_id</th>\n",
       "      <th>client_tenure_years</th>\n",
       "      <th>client_tenure_months</th>\n",
       "      <th>client_age</th>\n",
       "      <th>gender</th>\n",
       "      <th>num_accounts</th>\n",
       "      <th>balance</th>\n",
       "      <th>calls_last_6_months</th>\n",
       "      <th>logons_last_6_months</th>\n",
       "    </tr>\n",
       "  </thead>\n",
       "  <tbody>\n",
       "    <tr>\n",
       "      <th>0</th>\n",
       "      <td>836976</td>\n",
       "      <td>6.0</td>\n",
       "      <td>73.0</td>\n",
       "      <td>60.5</td>\n",
       "      <td>U</td>\n",
       "      <td>2.0</td>\n",
       "      <td>45105.30</td>\n",
       "      <td>6.0</td>\n",
       "      <td>9.0</td>\n",
       "    </tr>\n",
       "    <tr>\n",
       "      <th>1</th>\n",
       "      <td>2304905</td>\n",
       "      <td>7.0</td>\n",
       "      <td>94.0</td>\n",
       "      <td>58.0</td>\n",
       "      <td>U</td>\n",
       "      <td>2.0</td>\n",
       "      <td>110860.30</td>\n",
       "      <td>6.0</td>\n",
       "      <td>9.0</td>\n",
       "    </tr>\n",
       "    <tr>\n",
       "      <th>2</th>\n",
       "      <td>1439522</td>\n",
       "      <td>5.0</td>\n",
       "      <td>64.0</td>\n",
       "      <td>32.0</td>\n",
       "      <td>U</td>\n",
       "      <td>2.0</td>\n",
       "      <td>52467.79</td>\n",
       "      <td>6.0</td>\n",
       "      <td>9.0</td>\n",
       "    </tr>\n",
       "    <tr>\n",
       "      <th>3</th>\n",
       "      <td>1562045</td>\n",
       "      <td>16.0</td>\n",
       "      <td>198.0</td>\n",
       "      <td>49.0</td>\n",
       "      <td>M</td>\n",
       "      <td>2.0</td>\n",
       "      <td>67454.65</td>\n",
       "      <td>3.0</td>\n",
       "      <td>6.0</td>\n",
       "    </tr>\n",
       "    <tr>\n",
       "      <th>4</th>\n",
       "      <td>5126305</td>\n",
       "      <td>12.0</td>\n",
       "      <td>145.0</td>\n",
       "      <td>33.0</td>\n",
       "      <td>F</td>\n",
       "      <td>2.0</td>\n",
       "      <td>103671.75</td>\n",
       "      <td>0.0</td>\n",
       "      <td>3.0</td>\n",
       "    </tr>\n",
       "  </tbody>\n",
       "</table>\n",
       "</div>"
      ],
      "text/plain": [
       "   client_id  client_tenure_years  client_tenure_months  client_age gender  \\\n",
       "0     836976                  6.0                  73.0        60.5      U   \n",
       "1    2304905                  7.0                  94.0        58.0      U   \n",
       "2    1439522                  5.0                  64.0        32.0      U   \n",
       "3    1562045                 16.0                 198.0        49.0      M   \n",
       "4    5126305                 12.0                 145.0        33.0      F   \n",
       "\n",
       "   num_accounts    balance  calls_last_6_months  logons_last_6_months  \n",
       "0           2.0   45105.30                  6.0                   9.0  \n",
       "1           2.0  110860.30                  6.0                   9.0  \n",
       "2           2.0   52467.79                  6.0                   9.0  \n",
       "3           2.0   67454.65                  3.0                   6.0  \n",
       "4           2.0  103671.75                  0.0                   3.0  "
      ]
     },
     "execution_count": 110,
     "metadata": {},
     "output_type": "execute_result"
    }
   ],
   "source": [
    "df_demo.head(5)"
   ]
  },
  {
   "cell_type": "code",
   "execution_count": 111,
   "metadata": {},
   "outputs": [
    {
     "data": {
      "text/html": [
       "<div>\n",
       "<style scoped>\n",
       "    .dataframe tbody tr th:only-of-type {\n",
       "        vertical-align: middle;\n",
       "    }\n",
       "\n",
       "    .dataframe tbody tr th {\n",
       "        vertical-align: top;\n",
       "    }\n",
       "\n",
       "    .dataframe thead th {\n",
       "        text-align: right;\n",
       "    }\n",
       "</style>\n",
       "<table border=\"1\" class=\"dataframe\">\n",
       "  <thead>\n",
       "    <tr style=\"text-align: right;\">\n",
       "      <th></th>\n",
       "      <th>client_id</th>\n",
       "      <th>client_tenure_years</th>\n",
       "      <th>client_tenure_months</th>\n",
       "      <th>client_age</th>\n",
       "      <th>num_accounts</th>\n",
       "      <th>balance</th>\n",
       "      <th>calls_last_6_months</th>\n",
       "      <th>logons_last_6_months</th>\n",
       "    </tr>\n",
       "  </thead>\n",
       "  <tbody>\n",
       "    <tr>\n",
       "      <th>count</th>\n",
       "      <td>70592.00</td>\n",
       "      <td>70592.00</td>\n",
       "      <td>70592.00</td>\n",
       "      <td>70592.00</td>\n",
       "      <td>70592.00</td>\n",
       "      <td>70592.00</td>\n",
       "      <td>70592.00</td>\n",
       "      <td>70592.00</td>\n",
       "    </tr>\n",
       "    <tr>\n",
       "      <th>mean</th>\n",
       "      <td>5005061.51</td>\n",
       "      <td>12.05</td>\n",
       "      <td>150.66</td>\n",
       "      <td>46.44</td>\n",
       "      <td>2.26</td>\n",
       "      <td>147450.34</td>\n",
       "      <td>3.38</td>\n",
       "      <td>5.57</td>\n",
       "    </tr>\n",
       "    <tr>\n",
       "      <th>std</th>\n",
       "      <td>2877304.40</td>\n",
       "      <td>6.87</td>\n",
       "      <td>82.09</td>\n",
       "      <td>15.59</td>\n",
       "      <td>0.53</td>\n",
       "      <td>301514.10</td>\n",
       "      <td>2.24</td>\n",
       "      <td>2.35</td>\n",
       "    </tr>\n",
       "    <tr>\n",
       "      <th>min</th>\n",
       "      <td>169.00</td>\n",
       "      <td>2.00</td>\n",
       "      <td>33.00</td>\n",
       "      <td>13.50</td>\n",
       "      <td>1.00</td>\n",
       "      <td>13789.42</td>\n",
       "      <td>0.00</td>\n",
       "      <td>1.00</td>\n",
       "    </tr>\n",
       "    <tr>\n",
       "      <th>25%</th>\n",
       "      <td>2519666.25</td>\n",
       "      <td>6.00</td>\n",
       "      <td>82.00</td>\n",
       "      <td>32.50</td>\n",
       "      <td>2.00</td>\n",
       "      <td>37348.56</td>\n",
       "      <td>1.00</td>\n",
       "      <td>4.00</td>\n",
       "    </tr>\n",
       "    <tr>\n",
       "      <th>50%</th>\n",
       "      <td>5016973.50</td>\n",
       "      <td>11.00</td>\n",
       "      <td>136.00</td>\n",
       "      <td>47.00</td>\n",
       "      <td>2.00</td>\n",
       "      <td>63336.58</td>\n",
       "      <td>3.00</td>\n",
       "      <td>5.00</td>\n",
       "    </tr>\n",
       "    <tr>\n",
       "      <th>75%</th>\n",
       "      <td>7483122.50</td>\n",
       "      <td>16.00</td>\n",
       "      <td>192.00</td>\n",
       "      <td>59.00</td>\n",
       "      <td>2.00</td>\n",
       "      <td>137548.71</td>\n",
       "      <td>6.00</td>\n",
       "      <td>7.00</td>\n",
       "    </tr>\n",
       "    <tr>\n",
       "      <th>max</th>\n",
       "      <td>9999839.00</td>\n",
       "      <td>62.00</td>\n",
       "      <td>749.00</td>\n",
       "      <td>96.00</td>\n",
       "      <td>8.00</td>\n",
       "      <td>16320040.15</td>\n",
       "      <td>7.00</td>\n",
       "      <td>9.00</td>\n",
       "    </tr>\n",
       "  </tbody>\n",
       "</table>\n",
       "</div>"
      ],
      "text/plain": [
       "        client_id  client_tenure_years  client_tenure_months  client_age  \\\n",
       "count    70592.00             70592.00              70592.00    70592.00   \n",
       "mean   5005061.51                12.05                150.66       46.44   \n",
       "std    2877304.40                 6.87                 82.09       15.59   \n",
       "min        169.00                 2.00                 33.00       13.50   \n",
       "25%    2519666.25                 6.00                 82.00       32.50   \n",
       "50%    5016973.50                11.00                136.00       47.00   \n",
       "75%    7483122.50                16.00                192.00       59.00   \n",
       "max    9999839.00                62.00                749.00       96.00   \n",
       "\n",
       "       num_accounts      balance  calls_last_6_months  logons_last_6_months  \n",
       "count      70592.00     70592.00             70592.00              70592.00  \n",
       "mean           2.26    147450.34                 3.38                  5.57  \n",
       "std            0.53    301514.10                 2.24                  2.35  \n",
       "min            1.00     13789.42                 0.00                  1.00  \n",
       "25%            2.00     37348.56                 1.00                  4.00  \n",
       "50%            2.00     63336.58                 3.00                  5.00  \n",
       "75%            2.00    137548.71                 6.00                  7.00  \n",
       "max            8.00  16320040.15                 7.00                  9.00  "
      ]
     },
     "execution_count": 111,
     "metadata": {},
     "output_type": "execute_result"
    }
   ],
   "source": [
    "df_demo.describe().round(2)"
   ]
  },
  {
   "cell_type": "markdown",
   "metadata": {},
   "source": [
    "## Client_tenure_years"
   ]
  },
  {
   "cell_type": "markdown",
   "metadata": {},
   "source": [
    "Measures of Centrality"
   ]
  },
  {
   "cell_type": "code",
   "execution_count": 112,
   "metadata": {},
   "outputs": [
    {
     "data": {
      "text/plain": [
       "{'Mean': 12.05, 'Median': 11.0, 'Mode': 6.0}"
      ]
     },
     "execution_count": 112,
     "metadata": {},
     "output_type": "execute_result"
    }
   ],
   "source": [
    "column_to_analyze = 'client_tenure_years'\n",
    "\n",
    "# Calcular estadísticas para la columna seleccionada\n",
    "centrality_tenure_years = calculate_centrality(df_demo, column_to_analyze)\n",
    "centrality_tenure_years"
   ]
  },
  {
   "cell_type": "markdown",
   "metadata": {},
   "source": [
    "Measures of Dispersion"
   ]
  },
  {
   "cell_type": "code",
   "execution_count": 113,
   "metadata": {},
   "outputs": [
    {
     "data": {
      "text/plain": [
       "{'Variance': 47.22,\n",
       " 'Standard Deviation': 6.87,\n",
       " 'Min': 2.0,\n",
       " 'Max': 62.0,\n",
       " 'Range': 60.0,\n",
       " 'Quantiles': {0.25: 6.0, 0.5: 11.0, 0.75: 16.0}}"
      ]
     },
     "execution_count": 113,
     "metadata": {},
     "output_type": "execute_result"
    }
   ],
   "source": [
    "column_to_analyze = 'client_tenure_years'\n",
    "\n",
    "# Calcular estadísticas para la columna seleccionada\n",
    "dispersion_tenure_years = calculate_dispersion(df_demo, column_to_analyze)\n",
    "dispersion_tenure_years"
   ]
  },
  {
   "cell_type": "code",
   "execution_count": 114,
   "metadata": {},
   "outputs": [
    {
     "data": {
      "text/plain": [
       "5.0"
      ]
     },
     "execution_count": 114,
     "metadata": {},
     "output_type": "execute_result"
    }
   ],
   "source": [
    "df_demo['client_tenure_years'].quantile(0.1) # We can get any quantile value, not just quartiles"
   ]
  },
  {
   "cell_type": "markdown",
   "metadata": {},
   "source": [
    "## Client_tenure_months"
   ]
  },
  {
   "cell_type": "markdown",
   "metadata": {},
   "source": [
    "Mesaures of Centrality"
   ]
  },
  {
   "cell_type": "code",
   "execution_count": 115,
   "metadata": {},
   "outputs": [
    {
     "data": {
      "text/plain": [
       "{'Mean': 150.66, 'Median': 136.0, 'Mode': 58.0}"
      ]
     },
     "execution_count": 115,
     "metadata": {},
     "output_type": "execute_result"
    }
   ],
   "source": [
    "column_to_analyze = 'client_tenure_months'\n",
    "\n",
    "# Calcular estadísticas para la columna seleccionada\n",
    "centrality_tenure_months = calculate_centrality(df_demo, column_to_analyze)\n",
    "centrality_tenure_months"
   ]
  },
  {
   "cell_type": "markdown",
   "metadata": {},
   "source": [
    "Measures of Dispersion"
   ]
  },
  {
   "cell_type": "code",
   "execution_count": 116,
   "metadata": {},
   "outputs": [
    {
     "data": {
      "text/plain": [
       "{'Variance': 6738.98,\n",
       " 'Standard Deviation': 82.09,\n",
       " 'Min': 33.0,\n",
       " 'Max': 749.0,\n",
       " 'Range': 716.0,\n",
       " 'Quantiles': {0.25: 82.0, 0.5: 136.0, 0.75: 192.0}}"
      ]
     },
     "execution_count": 116,
     "metadata": {},
     "output_type": "execute_result"
    }
   ],
   "source": [
    "column_to_analyze = 'client_tenure_months'\n",
    "\n",
    "# Calcular estadísticas para la columna seleccionada\n",
    "dispersion_tenure_months = calculate_dispersion(df_demo, column_to_analyze)\n",
    "dispersion_tenure_months"
   ]
  },
  {
   "cell_type": "markdown",
   "metadata": {},
   "source": [
    "## Client_age"
   ]
  },
  {
   "cell_type": "markdown",
   "metadata": {},
   "source": [
    "Mesaures of Centrality"
   ]
  },
  {
   "cell_type": "code",
   "execution_count": 117,
   "metadata": {},
   "outputs": [
    {
     "data": {
      "text/plain": [
       "{'Mean': 46.44, 'Median': 47.0, 'Mode': 58.5}"
      ]
     },
     "execution_count": 117,
     "metadata": {},
     "output_type": "execute_result"
    }
   ],
   "source": [
    "column_to_analyze = 'client_age'\n",
    "\n",
    "# Calcular estadísticas para la columna seleccionada\n",
    "centrality_age = calculate_centrality(df_demo, column_to_analyze)\n",
    "centrality_age "
   ]
  },
  {
   "cell_type": "markdown",
   "metadata": {},
   "source": [
    "Measures of Dispersion"
   ]
  },
  {
   "cell_type": "code",
   "execution_count": 118,
   "metadata": {},
   "outputs": [
    {
     "data": {
      "text/plain": [
       "{'Variance': 243.09,\n",
       " 'Standard Deviation': 15.59,\n",
       " 'Min': 13.5,\n",
       " 'Max': 96.0,\n",
       " 'Range': 82.5,\n",
       " 'Quantiles': {0.25: 32.5, 0.5: 47.0, 0.75: 59.0}}"
      ]
     },
     "execution_count": 118,
     "metadata": {},
     "output_type": "execute_result"
    }
   ],
   "source": [
    "column_to_analyze = 'client_age'\n",
    "\n",
    "# Calcular estadísticas para la columna seleccionada\n",
    "dispersion_age= calculate_dispersion(df_demo, column_to_analyze)\n",
    "dispersion_age"
   ]
  },
  {
   "cell_type": "markdown",
   "metadata": {},
   "source": [
    "## Num_accounts"
   ]
  },
  {
   "cell_type": "markdown",
   "metadata": {},
   "source": [
    "Mesaures of Centrality"
   ]
  },
  {
   "cell_type": "code",
   "execution_count": 119,
   "metadata": {},
   "outputs": [
    {
     "data": {
      "text/plain": [
       "{'Mean': 2.26, 'Median': 2.0, 'Mode': 2.0}"
      ]
     },
     "execution_count": 119,
     "metadata": {},
     "output_type": "execute_result"
    }
   ],
   "source": [
    "column_to_analyze = 'num_accounts'\n",
    "\n",
    "# Calcular estadísticas para la columna seleccionada\n",
    "centrality_accounts = calculate_centrality(df_demo, column_to_analyze)\n",
    "centrality_accounts"
   ]
  },
  {
   "cell_type": "markdown",
   "metadata": {},
   "source": [
    "Measures of Dispersion"
   ]
  },
  {
   "cell_type": "code",
   "execution_count": 120,
   "metadata": {},
   "outputs": [
    {
     "data": {
      "text/plain": [
       "{'Variance': 0.29,\n",
       " 'Standard Deviation': 0.53,\n",
       " 'Min': 1.0,\n",
       " 'Max': 8.0,\n",
       " 'Range': 7.0,\n",
       " 'Quantiles': {0.25: 2.0, 0.5: 2.0, 0.75: 2.0}}"
      ]
     },
     "execution_count": 120,
     "metadata": {},
     "output_type": "execute_result"
    }
   ],
   "source": [
    "column_to_analyze = 'num_accounts'\n",
    "\n",
    "# Calcular estadísticas para la columna seleccionada\n",
    "dispersion_accounts = calculate_dispersion(df_demo, column_to_analyze)\n",
    "dispersion_accounts"
   ]
  },
  {
   "cell_type": "markdown",
   "metadata": {},
   "source": [
    "## Balance"
   ]
  },
  {
   "cell_type": "markdown",
   "metadata": {},
   "source": [
    "Mesaures of Centrality"
   ]
  },
  {
   "cell_type": "code",
   "execution_count": 121,
   "metadata": {},
   "outputs": [
    {
     "data": {
      "text/plain": [
       "{'Mean': 147450.34, 'Median': 63336.585, 'Mode': 31188.62}"
      ]
     },
     "execution_count": 121,
     "metadata": {},
     "output_type": "execute_result"
    }
   ],
   "source": [
    "column_to_analyze = 'balance'\n",
    "\n",
    "# Calcular estadísticas para la columna seleccionada\n",
    "centrality_balance = calculate_centrality(df_demo, column_to_analyze)\n",
    "centrality_balance"
   ]
  },
  {
   "cell_type": "markdown",
   "metadata": {},
   "source": [
    "Measures of Dispersion"
   ]
  },
  {
   "cell_type": "code",
   "execution_count": 122,
   "metadata": {},
   "outputs": [
    {
     "data": {
      "text/plain": [
       "{'Variance': 90910751855.38,\n",
       " 'Standard Deviation': 301514.1,\n",
       " 'Min': 13789.419999999998,\n",
       " 'Max': 16320040.15,\n",
       " 'Range': 16306250.73,\n",
       " 'Quantiles': {0.25: 37348.555, 0.5: 63336.585, 0.75: 137548.70500000002}}"
      ]
     },
     "execution_count": 122,
     "metadata": {},
     "output_type": "execute_result"
    }
   ],
   "source": [
    "column_to_analyze = 'balance'\n",
    "\n",
    "# Calcular estadísticas para la columna seleccionada\n",
    "dispersion_balance = calculate_dispersion(df_demo, column_to_analyze)\n",
    "dispersion_balance"
   ]
  },
  {
   "cell_type": "markdown",
   "metadata": {},
   "source": [
    "## Calls_last_6_months"
   ]
  },
  {
   "cell_type": "markdown",
   "metadata": {},
   "source": [
    "Mesaures of Centrality"
   ]
  },
  {
   "cell_type": "code",
   "execution_count": 123,
   "metadata": {},
   "outputs": [
    {
     "data": {
      "text/plain": [
       "{'Mean': 3.38, 'Median': 3.0, 'Mode': 6.0}"
      ]
     },
     "execution_count": 123,
     "metadata": {},
     "output_type": "execute_result"
    }
   ],
   "source": [
    "column_to_analyze = 'calls_last_6_months'\n",
    "\n",
    "# Calcular estadísticas para la columna seleccionada\n",
    "centrality_calls = calculate_centrality(df_demo, column_to_analyze)\n",
    "centrality_calls"
   ]
  },
  {
   "cell_type": "markdown",
   "metadata": {},
   "source": [
    "Measures of Dispersion"
   ]
  },
  {
   "cell_type": "code",
   "execution_count": 124,
   "metadata": {},
   "outputs": [
    {
     "data": {
      "text/plain": [
       "{'Variance': 5.0,\n",
       " 'Standard Deviation': 2.24,\n",
       " 'Min': 0.0,\n",
       " 'Max': 7.0,\n",
       " 'Range': 7.0,\n",
       " 'Quantiles': {0.25: 1.0, 0.5: 3.0, 0.75: 6.0}}"
      ]
     },
     "execution_count": 124,
     "metadata": {},
     "output_type": "execute_result"
    }
   ],
   "source": [
    "column_to_analyze = 'calls_last_6_months'\n",
    "\n",
    "# Calcular estadísticas para la columna seleccionada\n",
    "dispersion_calls = calculate_dispersion(df_demo, column_to_analyze)\n",
    "dispersion_calls"
   ]
  },
  {
   "cell_type": "markdown",
   "metadata": {},
   "source": [
    "## Logons_last_6_months"
   ]
  },
  {
   "cell_type": "markdown",
   "metadata": {},
   "source": [
    "Mesaures of Centrality"
   ]
  },
  {
   "cell_type": "code",
   "execution_count": 125,
   "metadata": {},
   "outputs": [
    {
     "data": {
      "text/plain": [
       "{'Mean': 5.57, 'Median': 5.0, 'Mode': 9.0}"
      ]
     },
     "execution_count": 125,
     "metadata": {},
     "output_type": "execute_result"
    }
   ],
   "source": [
    "column_to_analyze = 'logons_last_6_months'\n",
    "\n",
    "# Calcular estadísticas para la columna seleccionada\n",
    "centrality_logons = calculate_centrality(df_demo, column_to_analyze)\n",
    "centrality_logons"
   ]
  },
  {
   "cell_type": "markdown",
   "metadata": {},
   "source": [
    "Measures of Dispersion"
   ]
  },
  {
   "cell_type": "code",
   "execution_count": 126,
   "metadata": {},
   "outputs": [
    {
     "data": {
      "text/plain": [
       "{'Variance': 5.54,\n",
       " 'Standard Deviation': 2.35,\n",
       " 'Min': 1.0,\n",
       " 'Max': 9.0,\n",
       " 'Range': 8.0,\n",
       " 'Quantiles': {0.25: 4.0, 0.5: 5.0, 0.75: 7.0}}"
      ]
     },
     "execution_count": 126,
     "metadata": {},
     "output_type": "execute_result"
    }
   ],
   "source": [
    "column_to_analyze = 'logons_last_6_months'\n",
    "\n",
    "# Calcular estadísticas para la columna seleccionada\n",
    "dispersion_logons = calculate_dispersion(df_demo, column_to_analyze)\n",
    "dispersion_logons"
   ]
  },
  {
   "cell_type": "markdown",
   "metadata": {},
   "source": [
    "## Shape of the Distribution"
   ]
  },
  {
   "cell_type": "code",
   "execution_count": 128,
   "metadata": {},
   "outputs": [],
   "source": [
    "# Lista de columnas a analizar\n",
    "columns_to_analyze = [\n",
    "    'client_tenure_months',\n",
    "    'client_age',\n",
    "    'num_accounts',\n",
    "    'balance',\n",
    "    'calls_last_6_months',\n",
    "    'logons_last_6_months'\n",
    "]"
   ]
  },
  {
   "cell_type": "code",
   "execution_count": 129,
   "metadata": {},
   "outputs": [
    {
     "name": "stdout",
     "output_type": "stream",
     "text": [
      "Statistics for client_tenure_months:\n",
      "Skewness: 1.05, Kurtosis: 1.1\n",
      "\n",
      "Statistics for client_age:\n",
      "Skewness: 0.08, Kurtosis: -0.93\n",
      "\n",
      "Statistics for num_accounts:\n",
      "Skewness: 2.29, Kurtosis: 6.09\n",
      "\n",
      "Statistics for balance:\n",
      "Skewness: 11.16, Kurtosis: 278.2\n",
      "\n",
      "Statistics for calls_last_6_months:\n",
      "Skewness: 0.05, Kurtosis: -1.33\n",
      "\n",
      "Statistics for logons_last_6_months:\n",
      "Skewness: -0.03, Kurtosis: -1.06\n",
      "\n"
     ]
    }
   ],
   "source": [
    "# Calcular y mostrar asimetría y kurtosis para cada columna\n",
    "for column in columns_to_analyze:\n",
    "    statistics = calculate_skewness_kurtosis(df_demo, column)\n",
    "    print(f\"Statistics for {column}:\")\n",
    "    print(f\"Skewness: {statistics['Skewness']}, Kurtosis: {statistics['Kurtosis']}\\n\")"
   ]
  },
  {
   "cell_type": "markdown",
   "metadata": {},
   "source": [
    "## Visualizations"
   ]
  },
  {
   "cell_type": "markdown",
   "metadata": {},
   "source": [
    "Histograms"
   ]
  },
  {
   "cell_type": "code",
   "execution_count": 130,
   "metadata": {},
   "outputs": [],
   "source": [
    "columns_to_plot = [\n",
    "    'client_tenure_months',\n",
    "    'client_age',\n",
    "    'num_accounts',\n",
    "    'balance',\n",
    "    'calls_last_6_months',\n",
    "    'logons_last_6_months'\n",
    "]"
   ]
  },
  {
   "cell_type": "code",
   "execution_count": 131,
   "metadata": {},
   "outputs": [
    {
     "data": {
      "text/plain": [
       "<Figure size 1200x1000 with 0 Axes>"
      ]
     },
     "execution_count": 131,
     "metadata": {},
     "output_type": "execute_result"
    },
    {
     "data": {
      "text/plain": [
       "<Figure size 1200x1000 with 0 Axes>"
      ]
     },
     "metadata": {},
     "output_type": "display_data"
    }
   ],
   "source": [
    "# Configuración para los histogramas\n",
    "plt.figure(figsize=(12, 10))"
   ]
  },
  {
   "cell_type": "code",
   "execution_count": 132,
   "metadata": {},
   "outputs": [
    {
     "data": {
      "image/png": "[encoded data removed]",
      "text/plain": [
       "<Figure size 640x480 with 6 Axes>"
      ]
     },
     "metadata": {},
     "output_type": "display_data"
    }
   ],
   "source": [
    "for i, column in enumerate(columns_to_plot, start=1):\n",
    "    plt.subplot(3, 2, i)  # Configura el subplot\n",
    "    sns.histplot(df_demo[column], kde=True, bins=30, color=\"salmon\")\n",
    "    plt.title(f'Histogram of {column}')\n",
    "    plt.xlabel(column)\n",
    "    plt.ylabel('Frequency')\n",
    "\n",
    "plt.tight_layout()  # Ajusta el espaciado entre los subgráficos\n",
    "plt.show()  # Muestra los gráficos"
   ]
  },
  {
   "cell_type": "markdown",
   "metadata": {},
   "source": [
    "Box plots\n"
   ]
  },
  {
   "cell_type": "code",
   "execution_count": 144,
   "metadata": {},
   "outputs": [
    {
     "data": {
      "image/png": "[encoded data removed]",
      "text/plain": [
       "<Figure size 600x400 with 1 Axes>"
      ]
     },
     "metadata": {},
     "output_type": "display_data"
    },
    {
     "data": {
      "image/png": "[encoded data removed]",
      "text/plain": [
       "<Figure size 600x400 with 1 Axes>"
      ]
     },
     "metadata": {},
     "output_type": "display_data"
    },
    {
     "data": {
      "image/png": "[encoded data removed]",
      "text/plain": [
       "<Figure size 600x400 with 1 Axes>"
      ]
     },
     "metadata": {},
     "output_type": "display_data"
    },
    {
     "data": {
      "image/png": "[encoded data removed]",
      "text/plain": [
       "<Figure size 600x400 with 1 Axes>"
      ]
     },
     "metadata": {},
     "output_type": "display_data"
    },
    {
     "data": {
      "image/png": "[encoded data removed]",
      "text/plain": [
       "<Figure size 600x400 with 1 Axes>"
      ]
     },
     "metadata": {},
     "output_type": "display_data"
    },
    {
     "data": {
      "image/png": "[encoded data removed]",
      "text/plain": [
       "<Figure size 600x400 with 1 Axes>"
      ]
     },
     "metadata": {},
     "output_type": "display_data"
    }
   ],
   "source": [
    "# Graficar box plots para cada variable de interés\n",
    "variables = ['client_tenure_months', 'client_age', 'num_accounts', 'balance', 'calls_last_6_months', 'logons_last_6_months']\n",
    "\n",
    "for variable in variables:\n",
    "    #plt.subplot(3, 2, variables.index(variable) + 1)  # si queremos subgraficos\n",
    "    plt.figure(figsize=(6, 4))\n",
    "    sns.boxplot(data=df_demo[variable], color=\"lightblue\")\n",
    "    plt.title(f'Box Plot of {variable}')  # Título para cada gráfico\n",
    "    plt.xlabel(variable)  # Etiqueta del eje X\n",
    "\n",
    "plt.tight_layout()  # Ajustar el espacio entre subgráficos\n",
    "plt.show()  # Mostrar la figura"
   ]
  }
 ],
 "metadata": {
  "kernelspec": {
   "display_name": "prueba",
   "language": "python",
   "name": "python3"
  },
  "language_info": {
   "codemirror_mode": {
    "name": "ipython",
    "version": 3
   },
   "file_extension": ".py",
   "mimetype": "text/x-python",
   "name": "python",
   "nbconvert_exporter": "python",
   "pygments_lexer": "ipython3",
   "version": "3.11.9"
  }
 },
 "nbformat": 4,
 "nbformat_minor": 2
}
