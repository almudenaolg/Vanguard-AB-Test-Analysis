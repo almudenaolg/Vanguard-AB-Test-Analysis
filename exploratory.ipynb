{
 "cells": [
  {
   "cell_type": "markdown",
   "metadata": {},
   "source": [
    "## Data loading and initial scan "
   ]
  },
  {
   "cell_type": "markdown",
   "metadata": {},
   "source": [
    "1. **Import** all the libraries, functions and files necessary for the project"
   ]
  },
  {
   "cell_type": "code",
   "execution_count": 1,
   "metadata": {},
   "outputs": [],
   "source": [
    "import pandas as pd\n",
    "import numpy as np\n",
    "import matplotlib.pyplot as plt\n",
    "import seaborn as sns"
   ]
  },
  {
   "cell_type": "code",
   "execution_count": 2,
   "metadata": {},
   "outputs": [],
   "source": [
    "from functions import *\n",
    "%reload_ext autoreload"
   ]
  },
  {
   "cell_type": "code",
   "execution_count": 3,
   "metadata": {},
   "outputs": [],
   "source": [
    "df_demo = pd.read_csv('data/df_final_demo.txt')\n",
    "df_web_data_pt1 = pd.read_csv('data/df_final_web_data_pt_1.txt')\n",
    "df_web_data_pt2 = pd.read_csv('data/df_final_web_data_pt_2.txt')\n",
    "df_experiment_clients = pd.read_csv('data/df_final_experiment_clients.txt')"
   ]
  },
  {
   "cell_type": "markdown",
   "metadata": {},
   "source": [
    "2. **Join the web data** \n",
    "\n",
    "Explore the datasets that contain the information of the detailed trace of client interactions online, which is divided into two parts.\n",
    "To evaluate if it is possible to join them, with what method and if it is necessary to do some type of cleaning first."
   ]
  },
  {
   "cell_type": "code",
   "execution_count": 4,
   "metadata": {},
   "outputs": [
    {
     "name": "stdout",
     "output_type": "stream",
     "text": [
      "(343141, 5)\n",
      "   client_id            visitor_id                      visit_id process_step  \\\n",
      "0    9988021  580560515_7732621733  781255054_21935453173_531117       step_3   \n",
      "1    9988021  580560515_7732621733  781255054_21935453173_531117       step_2   \n",
      "2    9988021  580560515_7732621733  781255054_21935453173_531117       step_3   \n",
      "3    9988021  580560515_7732621733  781255054_21935453173_531117       step_2   \n",
      "4    9988021  580560515_7732621733  781255054_21935453173_531117       step_3   \n",
      "5    9988021  580560515_7732621733  781255054_21935453173_531117       step_2   \n",
      "6    9988021  580560515_7732621733  781255054_21935453173_531117       step_1   \n",
      "7    9988021  580560515_7732621733  781255054_21935453173_531117        start   \n",
      "8    8320017  39393514_33118319366  960651974_70596002104_312201      confirm   \n",
      "9    8320017  39393514_33118319366  960651974_70596002104_312201       step_3   \n",
      "\n",
      "             date_time  \n",
      "0  2017-04-17 15:27:07  \n",
      "1  2017-04-17 15:26:51  \n",
      "2  2017-04-17 15:19:22  \n",
      "3  2017-04-17 15:19:13  \n",
      "4  2017-04-17 15:18:04  \n",
      "5  2017-04-17 15:17:15  \n",
      "6  2017-04-17 15:17:01  \n",
      "7  2017-04-17 15:16:22  \n",
      "8  2017-04-05 13:10:05  \n",
      "9  2017-04-05 13:09:43  \n",
      "<class 'pandas.core.frame.DataFrame'>\n",
      "RangeIndex: 343141 entries, 0 to 343140\n",
      "Data columns (total 5 columns):\n",
      " #   Column        Non-Null Count   Dtype \n",
      "---  ------        --------------   ----- \n",
      " 0   client_id     343141 non-null  int64 \n",
      " 1   visitor_id    343141 non-null  object\n",
      " 2   visit_id      343141 non-null  object\n",
      " 3   process_step  343141 non-null  object\n",
      " 4   date_time     343141 non-null  object\n",
      "dtypes: int64(1), object(4)\n",
      "memory usage: 13.1+ MB\n",
      "None\n"
     ]
    }
   ],
   "source": [
    "explore(df_web_data_pt1)"
   ]
  },
  {
   "cell_type": "code",
   "execution_count": 5,
   "metadata": {},
   "outputs": [
    {
     "name": "stdout",
     "output_type": "stream",
     "text": [
      "(412264, 5)\n",
      "   client_id             visitor_id                      visit_id  \\\n",
      "0     763412  601952081_10457207388  397475557_40440946728_419634   \n",
      "1    6019349  442094451_91531546617  154620534_35331068705_522317   \n",
      "2    6019349  442094451_91531546617  154620534_35331068705_522317   \n",
      "3    6019349  442094451_91531546617  154620534_35331068705_522317   \n",
      "4    6019349  442094451_91531546617  154620534_35331068705_522317   \n",
      "5    6019349  442094451_91531546617  154620534_35331068705_522317   \n",
      "6    4726500  934350987_45569789638  467318052_88159801968_565608   \n",
      "7    4726500  934350987_45569789638  467318052_88159801968_565608   \n",
      "8    4726500  934350987_45569789638  467318052_88159801968_565608   \n",
      "9    4726500  934350987_45569789638  467318052_88159801968_565608   \n",
      "\n",
      "  process_step            date_time  \n",
      "0      confirm  2017-06-06 08:56:00  \n",
      "1      confirm  2017-06-01 11:59:27  \n",
      "2       step_3  2017-06-01 11:58:48  \n",
      "3       step_2  2017-06-01 11:58:08  \n",
      "4       step_1  2017-06-01 11:57:58  \n",
      "5        start  2017-06-01 11:57:54  \n",
      "6      confirm  2017-06-05 17:38:52  \n",
      "7       step_3  2017-06-05 17:38:33  \n",
      "8       step_2  2017-06-05 17:37:31  \n",
      "9       step_1  2017-06-05 17:37:24  \n",
      "<class 'pandas.core.frame.DataFrame'>\n",
      "RangeIndex: 412264 entries, 0 to 412263\n",
      "Data columns (total 5 columns):\n",
      " #   Column        Non-Null Count   Dtype \n",
      "---  ------        --------------   ----- \n",
      " 0   client_id     412264 non-null  int64 \n",
      " 1   visitor_id    412264 non-null  object\n",
      " 2   visit_id      412264 non-null  object\n",
      " 3   process_step  412264 non-null  object\n",
      " 4   date_time     412264 non-null  object\n",
      "dtypes: int64(1), object(4)\n",
      "memory usage: 15.7+ MB\n",
      "None\n"
     ]
    }
   ],
   "source": [
    "explore(df_web_data_pt2)"
   ]
  },
  {
   "cell_type": "markdown",
   "metadata": {},
   "source": [
    "We use the concatenate method because we want to join the DataFrames by stacking rows. To facilitate the general analysis of the final information on the website."
   ]
  },
  {
   "cell_type": "code",
   "execution_count": 6,
   "metadata": {},
   "outputs": [],
   "source": [
    "df_web_data = pd.concat([df_web_data_pt1, df_web_data_pt2], ignore_index=True)"
   ]
  },
  {
   "cell_type": "markdown",
   "metadata": {},
   "source": [
    "3. **Explore the DataFrames**"
   ]
  },
  {
   "cell_type": "markdown",
   "metadata": {},
   "source": [
    "\n",
    "We apply a function that prints the head, the null and datatype information of the columns."
   ]
  },
  {
   "cell_type": "code",
   "execution_count": 7,
   "metadata": {},
   "outputs": [
    {
     "name": "stdout",
     "output_type": "stream",
     "text": [
      "(70609, 9)\n",
      "   client_id  clnt_tenure_yr  clnt_tenure_mnth  clnt_age gendr  num_accts  \\\n",
      "0     836976             6.0              73.0      60.5     U        2.0   \n",
      "1    2304905             7.0              94.0      58.0     U        2.0   \n",
      "2    1439522             5.0              64.0      32.0     U        2.0   \n",
      "3    1562045            16.0             198.0      49.0     M        2.0   \n",
      "4    5126305            12.0             145.0      33.0     F        2.0   \n",
      "5    3727881             5.0              71.0      30.5     U        2.0   \n",
      "6     272934             5.0              66.0      58.5     U        2.0   \n",
      "7     388801            30.0             361.0      57.5     M        5.0   \n",
      "8     285619            30.0             369.0      67.5     M        2.0   \n",
      "9    8198645            15.0             189.0      54.5     F        2.0   \n",
      "\n",
      "         bal  calls_6_mnth  logons_6_mnth  \n",
      "0   45105.30           6.0            9.0  \n",
      "1  110860.30           6.0            9.0  \n",
      "2   52467.79           6.0            9.0  \n",
      "3   67454.65           3.0            6.0  \n",
      "4  103671.75           0.0            3.0  \n",
      "5   23915.60           0.0            3.0  \n",
      "6   27021.42           2.0            5.0  \n",
      "7  522498.72           1.0            4.0  \n",
      "8  299388.72           3.0            6.0  \n",
      "9  382303.83           6.0            9.0  \n",
      "<class 'pandas.core.frame.DataFrame'>\n",
      "RangeIndex: 70609 entries, 0 to 70608\n",
      "Data columns (total 9 columns):\n",
      " #   Column            Non-Null Count  Dtype  \n",
      "---  ------            --------------  -----  \n",
      " 0   client_id         70609 non-null  int64  \n",
      " 1   clnt_tenure_yr    70595 non-null  float64\n",
      " 2   clnt_tenure_mnth  70595 non-null  float64\n",
      " 3   clnt_age          70594 non-null  float64\n",
      " 4   gendr             70595 non-null  object \n",
      " 5   num_accts         70595 non-null  float64\n",
      " 6   bal               70595 non-null  float64\n",
      " 7   calls_6_mnth      70595 non-null  float64\n",
      " 8   logons_6_mnth     70595 non-null  float64\n",
      "dtypes: float64(7), int64(1), object(1)\n",
      "memory usage: 4.8+ MB\n",
      "None\n"
     ]
    }
   ],
   "source": [
    "explore(df_demo)"
   ]
  },
  {
   "cell_type": "code",
   "execution_count": 8,
   "metadata": {},
   "outputs": [
    {
     "name": "stdout",
     "output_type": "stream",
     "text": [
      "(755405, 5)\n",
      "   client_id            visitor_id                      visit_id process_step  \\\n",
      "0    9988021  580560515_7732621733  781255054_21935453173_531117       step_3   \n",
      "1    9988021  580560515_7732621733  781255054_21935453173_531117       step_2   \n",
      "2    9988021  580560515_7732621733  781255054_21935453173_531117       step_3   \n",
      "3    9988021  580560515_7732621733  781255054_21935453173_531117       step_2   \n",
      "4    9988021  580560515_7732621733  781255054_21935453173_531117       step_3   \n",
      "5    9988021  580560515_7732621733  781255054_21935453173_531117       step_2   \n",
      "6    9988021  580560515_7732621733  781255054_21935453173_531117       step_1   \n",
      "7    9988021  580560515_7732621733  781255054_21935453173_531117        start   \n",
      "8    8320017  39393514_33118319366  960651974_70596002104_312201      confirm   \n",
      "9    8320017  39393514_33118319366  960651974_70596002104_312201       step_3   \n",
      "\n",
      "             date_time  \n",
      "0  2017-04-17 15:27:07  \n",
      "1  2017-04-17 15:26:51  \n",
      "2  2017-04-17 15:19:22  \n",
      "3  2017-04-17 15:19:13  \n",
      "4  2017-04-17 15:18:04  \n",
      "5  2017-04-17 15:17:15  \n",
      "6  2017-04-17 15:17:01  \n",
      "7  2017-04-17 15:16:22  \n",
      "8  2017-04-05 13:10:05  \n",
      "9  2017-04-05 13:09:43  \n",
      "<class 'pandas.core.frame.DataFrame'>\n",
      "RangeIndex: 755405 entries, 0 to 755404\n",
      "Data columns (total 5 columns):\n",
      " #   Column        Non-Null Count   Dtype \n",
      "---  ------        --------------   ----- \n",
      " 0   client_id     755405 non-null  int64 \n",
      " 1   visitor_id    755405 non-null  object\n",
      " 2   visit_id      755405 non-null  object\n",
      " 3   process_step  755405 non-null  object\n",
      " 4   date_time     755405 non-null  object\n",
      "dtypes: int64(1), object(4)\n",
      "memory usage: 28.8+ MB\n",
      "None\n"
     ]
    }
   ],
   "source": [
    "explore(df_web_data)"
   ]
  },
  {
   "cell_type": "code",
   "execution_count": 9,
   "metadata": {},
   "outputs": [
    {
     "name": "stdout",
     "output_type": "stream",
     "text": [
      "(70609, 2)\n",
      "   client_id Variation\n",
      "0    9988021      Test\n",
      "1    8320017      Test\n",
      "2    4033851   Control\n",
      "3    1982004      Test\n",
      "4    9294070   Control\n",
      "5    9466803      Test\n",
      "6    3170143      Test\n",
      "7    6651403   Control\n",
      "8    5887227      Test\n",
      "9    2105948   Control\n",
      "<class 'pandas.core.frame.DataFrame'>\n",
      "RangeIndex: 70609 entries, 0 to 70608\n",
      "Data columns (total 2 columns):\n",
      " #   Column     Non-Null Count  Dtype \n",
      "---  ------     --------------  ----- \n",
      " 0   client_id  70609 non-null  int64 \n",
      " 1   Variation  50500 non-null  object\n",
      "dtypes: int64(1), object(1)\n",
      "memory usage: 1.1+ MB\n",
      "None\n"
     ]
    }
   ],
   "source": [
    "explore(df_experiment_clients)"
   ]
  },
  {
   "cell_type": "markdown",
   "metadata": {},
   "source": [
    "## Cleaning data"
   ]
  },
  {
   "cell_type": "markdown",
   "metadata": {},
   "source": [
    "### 1. Cleaning df_demo"
   ]
  },
  {
   "cell_type": "markdown",
   "metadata": {},
   "source": [
    "Call the function that will remove rows with too many null values and duplicate rows, to remove what is not essential."
   ]
  },
  {
   "cell_type": "code",
   "execution_count": 10,
   "metadata": {},
   "outputs": [
    {
     "name": "stderr",
     "output_type": "stream",
     "text": [
      "c:\\Users\\almuo\\Desktop\\IRONHACK\\PROJECT 2 AB TESTING\\Vanguard-AB-Test-Analysis\\functions.py:36: SettingWithCopyWarning: \n",
      "A value is trying to be set on a copy of a slice from a DataFrame\n",
      "\n",
      "See the caveats in the documentation: https://pandas.pydata.org/pandas-docs/stable/user_guide/indexing.html#returning-a-view-versus-a-copy\n",
      "  df_cleaned.drop_duplicates(inplace=True)\n"
     ]
    }
   ],
   "source": [
    "df_demo = remove_nulls_and_duplicates(df_demo, threshold=0.8)"
   ]
  },
  {
   "cell_type": "markdown",
   "metadata": {},
   "source": [
    "Change the names of the columns of this dataframe, to make it simpler and more understandable."
   ]
  },
  {
   "cell_type": "code",
   "execution_count": 11,
   "metadata": {},
   "outputs": [],
   "source": [
    "df_demo = rename_columns_1(df_demo)"
   ]
  },
  {
   "cell_type": "markdown",
   "metadata": {},
   "source": [
    "We fill in the null values by the mean in the age column. Since there is only one null value and the mean is a representative value of the data set, it will not change the results."
   ]
  },
  {
   "cell_type": "code",
   "execution_count": 12,
   "metadata": {},
   "outputs": [],
   "source": [
    "df_demo = mean_fill_missing_values(df_demo, 'client_age')"
   ]
  },
  {
   "cell_type": "markdown",
   "metadata": {},
   "source": [
    "Convert the gender column to a categorical data type to facilitate analysis."
   ]
  },
  {
   "cell_type": "code",
   "execution_count": 13,
   "metadata": {},
   "outputs": [],
   "source": [
    "df_demo = convert_to_categorical(df_demo, 'gender')"
   ]
  },
  {
   "cell_type": "markdown",
   "metadata": {},
   "source": [
    "### 2. Cleaning df_web_data"
   ]
  },
  {
   "cell_type": "markdown",
   "metadata": {},
   "source": [
    "Convert the date_time column to a datetime format to be able to work with dates and times more easily."
   ]
  },
  {
   "cell_type": "code",
   "execution_count": 14,
   "metadata": {},
   "outputs": [],
   "source": [
    "df_web_data = convert_to_datetime(df_web_data, 'date_time')"
   ]
  },
  {
   "cell_type": "markdown",
   "metadata": {},
   "source": [
    "### 3. Cleaning df_experiment_clients"
   ]
  },
  {
   "cell_type": "markdown",
   "metadata": {},
   "source": [
    "We changed the name of the column 'Variation' to 'experiment_group' to avoid the use of capital letters and make it more understandable."
   ]
  },
  {
   "cell_type": "code",
   "execution_count": 15,
   "metadata": {},
   "outputs": [],
   "source": [
    "df_experiment_clients.rename(columns={'Variation': 'experiment_group'}, inplace=True)"
   ]
  },
  {
   "cell_type": "markdown",
   "metadata": {},
   "source": [
    "We remove the rows with null values in the Variation column, because their value is crucial (it distinguishes between “Test” and “Control”). Therefore, we cannot fill them in, nor use them for analysis without knowing which group they belong to."
   ]
  },
  {
   "cell_type": "code",
   "execution_count": 16,
   "metadata": {},
   "outputs": [],
   "source": [
    "df_experiment_clients = df_experiment_clients.dropna(subset=['experiment_group'])"
   ]
  },
  {
   "cell_type": "markdown",
   "metadata": {},
   "source": [
    "Convert the gender column to a categorical data type to facilitate analysis."
   ]
  },
  {
   "cell_type": "code",
   "execution_count": 17,
   "metadata": {},
   "outputs": [],
   "source": [
    "df_experiment_clients = convert_to_categorical(df_experiment_clients, 'experiment_group')"
   ]
  },
  {
   "cell_type": "markdown",
   "metadata": {},
   "source": [
    "## Condensing web data"
   ]
  },
  {
   "cell_type": "markdown",
   "metadata": {},
   "source": [
    "### 1. Extract data from the original dataframe\n",
    "\n",
    "We extract information from the df_web_data to **create a dataframe** in which each customer has a single row. The original dataframe has many records per client, for each interaction on the web site, totaling 755405 rows. We **condens the information** to reduce the amount of redundant data. \n",
    "\n",
    "The result is a more manageable dataframe, where **each row represents a unique customer with its key metrics**. This structure will facilitate efficient merge with other dataframes and subsequent analysis, which are essential for our A/B testing analysis."
   ]
  },
  {
   "cell_type": "markdown",
   "metadata": {},
   "source": [
    "- **Number of visits**: count how many unique visits (visit_id) each customer made in the online process. It can be related to the efficiency of the website."
   ]
  },
  {
   "cell_type": "code",
   "execution_count": 18,
   "metadata": {},
   "outputs": [],
   "source": [
    "# Count the number of visits per client\n",
    "visits_count = df_web_data.groupby('client_id')['visit_id'].nunique().reset_index()\n",
    "visits_count.columns = ['client_id', 'num_visits']"
   ]
  },
  {
   "cell_type": "markdown",
   "metadata": {},
   "source": [
    "- **Number of steps**: count the total number of unique steps (process_step) that each customer completed in all visits. It shows us how far each customer progressed through the process and the efficiency of the user flow."
   ]
  },
  {
   "cell_type": "code",
   "execution_count": 19,
   "metadata": {},
   "outputs": [],
   "source": [
    "# Count the number of steps for each client\n",
    "steps_count = df_web_data.groupby('client_id').size().reset_index(name='num_steps')"
   ]
  },
  {
   "cell_type": "markdown",
   "metadata": {},
   "source": [
    "- **Completion_status**: is a Boolean indicator that marks whether the customer reached the final step (confirm) or not. It is essential to measure the success of the process and to calculate the flow completion rate."
   ]
  },
  {
   "cell_type": "code",
   "execution_count": 20,
   "metadata": {},
   "outputs": [],
   "source": [
    "# Calculate completion rate\n",
    "df_web_data['completed'] = df_web_data['process_step'] == 'confirm'\n",
    "completion_rate = df_web_data.groupby('client_id')['completed'].max().reset_index()\n",
    "completion_rate.columns = ['client_id', 'completion_status']"
   ]
  },
  {
   "cell_type": "markdown",
   "metadata": {},
   "source": [
    "- **Total time spent**: add up the total time each customer spent in the online process, first calculating the difference between the successive steps. It could indicate difficulties in navigation or overly complex processes."
   ]
  },
  {
   "cell_type": "code",
   "execution_count": 21,
   "metadata": {},
   "outputs": [],
   "source": [
    "#Order the dataframe to calculate the difference in time\n",
    "df_web_data = df_web_data.sort_values(by=['visitor_id', 'date_time'])\n",
    "\n",
    "# Calculate time spent creating a column in the original dataframe\n",
    "df_web_data['time_spent'] = df_web_data.groupby('visit_id')['date_time'].diff().shift(-1)"
   ]
  },
  {
   "cell_type": "code",
   "execution_count": 22,
   "metadata": {},
   "outputs": [
    {
     "data": {
      "text/html": [
       "<div>\n",
       "<style scoped>\n",
       "    .dataframe tbody tr th:only-of-type {\n",
       "        vertical-align: middle;\n",
       "    }\n",
       "\n",
       "    .dataframe tbody tr th {\n",
       "        vertical-align: top;\n",
       "    }\n",
       "\n",
       "    .dataframe thead th {\n",
       "        text-align: right;\n",
       "    }\n",
       "</style>\n",
       "<table border=\"1\" class=\"dataframe\">\n",
       "  <thead>\n",
       "    <tr style=\"text-align: right;\">\n",
       "      <th></th>\n",
       "      <th>client_id</th>\n",
       "      <th>total_time_spent</th>\n",
       "    </tr>\n",
       "  </thead>\n",
       "  <tbody>\n",
       "    <tr>\n",
       "      <th>0</th>\n",
       "      <td>169</td>\n",
       "      <td>0 days 00:03:33</td>\n",
       "    </tr>\n",
       "    <tr>\n",
       "      <th>1</th>\n",
       "      <td>336</td>\n",
       "      <td>0 days 00:15:48</td>\n",
       "    </tr>\n",
       "    <tr>\n",
       "      <th>2</th>\n",
       "      <td>546</td>\n",
       "      <td>0 days 00:02:13</td>\n",
       "    </tr>\n",
       "    <tr>\n",
       "      <th>3</th>\n",
       "      <td>555</td>\n",
       "      <td>0 days 00:02:38</td>\n",
       "    </tr>\n",
       "    <tr>\n",
       "      <th>4</th>\n",
       "      <td>647</td>\n",
       "      <td>0 days 00:06:17</td>\n",
       "    </tr>\n",
       "    <tr>\n",
       "      <th>5</th>\n",
       "      <td>722</td>\n",
       "      <td>0 days 00:09:59</td>\n",
       "    </tr>\n",
       "    <tr>\n",
       "      <th>6</th>\n",
       "      <td>786</td>\n",
       "      <td>0 days 00:05:12</td>\n",
       "    </tr>\n",
       "    <tr>\n",
       "      <th>7</th>\n",
       "      <td>805</td>\n",
       "      <td>0 days 00:03:38</td>\n",
       "    </tr>\n",
       "    <tr>\n",
       "      <th>8</th>\n",
       "      <td>832</td>\n",
       "      <td>0 days 00:02:14</td>\n",
       "    </tr>\n",
       "    <tr>\n",
       "      <th>9</th>\n",
       "      <td>934</td>\n",
       "      <td>0 days 00:02:22</td>\n",
       "    </tr>\n",
       "  </tbody>\n",
       "</table>\n",
       "</div>"
      ],
      "text/plain": [
       "   client_id total_time_spent\n",
       "0        169  0 days 00:03:33\n",
       "1        336  0 days 00:15:48\n",
       "2        546  0 days 00:02:13\n",
       "3        555  0 days 00:02:38\n",
       "4        647  0 days 00:06:17\n",
       "5        722  0 days 00:09:59\n",
       "6        786  0 days 00:05:12\n",
       "7        805  0 days 00:03:38\n",
       "8        832  0 days 00:02:14\n",
       "9        934  0 days 00:02:22"
      ]
     },
     "execution_count": 22,
     "metadata": {},
     "output_type": "execute_result"
    }
   ],
   "source": [
    "# Calculate total time spent per client\n",
    "total_time_per_client = df_web_data.groupby('client_id')['time_spent'].sum().reset_index()\n",
    "total_time_per_client.columns = ['client_id', 'total_time_spent']\n",
    "total_time_per_client.head(10)"
   ]
  },
  {
   "cell_type": "markdown",
   "metadata": {},
   "source": [
    "- **Repeated step**: boolean indicator that signals if the client repeated any step in the process. May be a sign of confusion or usability problems in the flow."
   ]
  },
  {
   "cell_type": "code",
   "execution_count": 23,
   "metadata": {},
   "outputs": [],
   "source": [
    "repeat_steps = df_web_data.groupby('client_id')['process_step'].value_counts()\n",
    "\n",
    "# Create a dataframe with the number of times each client has repeated each step\n",
    "repeat_steps_df = repeat_steps.reset_index(name='count')\n",
    "\n",
    "# Create a new column indicating if the client has repeated each step\n",
    "repeat_steps_df['repeated_step'] = repeat_steps_df['count'] > 1\n",
    "\n",
    "# Create a new dataframe with only the clients who have repeated each step\n",
    "df_repeated = repeat_steps_df.groupby('client_id')['repeated_step'].any().reset_index()\n"
   ]
  },
  {
   "cell_type": "markdown",
   "metadata": {},
   "source": [
    "### 2. Create the condensed dataframe"
   ]
  },
  {
   "cell_type": "markdown",
   "metadata": {},
   "source": [
    "Join all the information we extracted from the original dataframe(df_web_data) in df_web."
   ]
  },
  {
   "cell_type": "code",
   "execution_count": 32,
   "metadata": {},
   "outputs": [],
   "source": [
    "df_web = visits_count.copy()\n",
    "\n",
    "df_web = df_web.merge(steps_count, on='client_id', how='left')\n",
    "df_web = df_web.merge(completion_rate, on='client_id', how='left')\n",
    "df_web = df_web.merge(total_time_per_client, on='client_id', how='left')\n",
    "df_web = df_web.merge(df_repeated, on='client_id', how='left')"
   ]
  },
  {
   "cell_type": "markdown",
   "metadata": {},
   "source": [
    "### 3. Complete the dataframe"
   ]
  },
  {
   "cell_type": "markdown",
   "metadata": {},
   "source": [
    "- **Steps per visit**: Calculated by dividing the total number of steps (num_steps) by the number of visits (num_visits), it tells us how many steps on average a customer completed in their visits."
   ]
  },
  {
   "cell_type": "code",
   "execution_count": 25,
   "metadata": {},
   "outputs": [],
   "source": [
    "#Complete the information with an average of steps per visit\n",
    "df_web['steps_per_visit'] = (df_web['num_steps']/df_web['num_visits']).round(2)"
   ]
  },
  {
   "cell_type": "markdown",
   "metadata": {},
   "source": [
    "- **Total time in seconds**: the seconds version of the total time, that allows for more detailed analysis by switching from datatime to integer format."
   ]
  },
  {
   "cell_type": "code",
   "execution_count": 26,
   "metadata": {},
   "outputs": [],
   "source": [
    "#Complete the information with a column of the time expressed in seconds\n",
    "df_web['total_time_seconds'] = df_web['total_time_spent'].dt.total_seconds().astype(int)"
   ]
  },
  {
   "cell_type": "markdown",
   "metadata": {},
   "source": [
    "**Order the columns**: so that the column layout in the dataframe makes more sense in the reading order of the data."
   ]
  },
  {
   "cell_type": "code",
   "execution_count": 27,
   "metadata": {},
   "outputs": [
    {
     "data": {
      "text/html": [
       "<div>\n",
       "<style scoped>\n",
       "    .dataframe tbody tr th:only-of-type {\n",
       "        vertical-align: middle;\n",
       "    }\n",
       "\n",
       "    .dataframe tbody tr th {\n",
       "        vertical-align: top;\n",
       "    }\n",
       "\n",
       "    .dataframe thead th {\n",
       "        text-align: right;\n",
       "    }\n",
       "</style>\n",
       "<table border=\"1\" class=\"dataframe\">\n",
       "  <thead>\n",
       "    <tr style=\"text-align: right;\">\n",
       "      <th></th>\n",
       "      <th>client_id</th>\n",
       "      <th>num_visits</th>\n",
       "      <th>num_steps</th>\n",
       "      <th>steps_per_visit</th>\n",
       "      <th>repeated_step</th>\n",
       "      <th>total_time_spent</th>\n",
       "      <th>total_time_seconds</th>\n",
       "      <th>completion_status</th>\n",
       "    </tr>\n",
       "  </thead>\n",
       "  <tbody>\n",
       "    <tr>\n",
       "      <th>0</th>\n",
       "      <td>169</td>\n",
       "      <td>1</td>\n",
       "      <td>5</td>\n",
       "      <td>5.0</td>\n",
       "      <td>False</td>\n",
       "      <td>0 days 00:03:33</td>\n",
       "      <td>213</td>\n",
       "      <td>True</td>\n",
       "    </tr>\n",
       "    <tr>\n",
       "      <th>1</th>\n",
       "      <td>336</td>\n",
       "      <td>1</td>\n",
       "      <td>2</td>\n",
       "      <td>2.0</td>\n",
       "      <td>True</td>\n",
       "      <td>0 days 00:15:48</td>\n",
       "      <td>948</td>\n",
       "      <td>False</td>\n",
       "    </tr>\n",
       "    <tr>\n",
       "      <th>2</th>\n",
       "      <td>546</td>\n",
       "      <td>1</td>\n",
       "      <td>5</td>\n",
       "      <td>5.0</td>\n",
       "      <td>False</td>\n",
       "      <td>0 days 00:02:13</td>\n",
       "      <td>133</td>\n",
       "      <td>True</td>\n",
       "    </tr>\n",
       "    <tr>\n",
       "      <th>3</th>\n",
       "      <td>555</td>\n",
       "      <td>1</td>\n",
       "      <td>5</td>\n",
       "      <td>5.0</td>\n",
       "      <td>False</td>\n",
       "      <td>0 days 00:02:38</td>\n",
       "      <td>158</td>\n",
       "      <td>True</td>\n",
       "    </tr>\n",
       "    <tr>\n",
       "      <th>4</th>\n",
       "      <td>647</td>\n",
       "      <td>1</td>\n",
       "      <td>5</td>\n",
       "      <td>5.0</td>\n",
       "      <td>False</td>\n",
       "      <td>0 days 00:06:17</td>\n",
       "      <td>377</td>\n",
       "      <td>True</td>\n",
       "    </tr>\n",
       "    <tr>\n",
       "      <th>5</th>\n",
       "      <td>722</td>\n",
       "      <td>1</td>\n",
       "      <td>9</td>\n",
       "      <td>9.0</td>\n",
       "      <td>True</td>\n",
       "      <td>0 days 00:09:59</td>\n",
       "      <td>599</td>\n",
       "      <td>True</td>\n",
       "    </tr>\n",
       "    <tr>\n",
       "      <th>6</th>\n",
       "      <td>786</td>\n",
       "      <td>1</td>\n",
       "      <td>6</td>\n",
       "      <td>6.0</td>\n",
       "      <td>True</td>\n",
       "      <td>0 days 00:05:12</td>\n",
       "      <td>312</td>\n",
       "      <td>True</td>\n",
       "    </tr>\n",
       "    <tr>\n",
       "      <th>7</th>\n",
       "      <td>805</td>\n",
       "      <td>3</td>\n",
       "      <td>9</td>\n",
       "      <td>3.0</td>\n",
       "      <td>True</td>\n",
       "      <td>0 days 00:03:38</td>\n",
       "      <td>218</td>\n",
       "      <td>False</td>\n",
       "    </tr>\n",
       "    <tr>\n",
       "      <th>8</th>\n",
       "      <td>832</td>\n",
       "      <td>1</td>\n",
       "      <td>7</td>\n",
       "      <td>7.0</td>\n",
       "      <td>True</td>\n",
       "      <td>0 days 00:02:14</td>\n",
       "      <td>134</td>\n",
       "      <td>True</td>\n",
       "    </tr>\n",
       "    <tr>\n",
       "      <th>9</th>\n",
       "      <td>934</td>\n",
       "      <td>1</td>\n",
       "      <td>4</td>\n",
       "      <td>4.0</td>\n",
       "      <td>True</td>\n",
       "      <td>0 days 00:02:22</td>\n",
       "      <td>142</td>\n",
       "      <td>False</td>\n",
       "    </tr>\n",
       "  </tbody>\n",
       "</table>\n",
       "</div>"
      ],
      "text/plain": [
       "   client_id  num_visits  num_steps  steps_per_visit  repeated_step  \\\n",
       "0        169           1          5              5.0          False   \n",
       "1        336           1          2              2.0           True   \n",
       "2        546           1          5              5.0          False   \n",
       "3        555           1          5              5.0          False   \n",
       "4        647           1          5              5.0          False   \n",
       "5        722           1          9              9.0           True   \n",
       "6        786           1          6              6.0           True   \n",
       "7        805           3          9              3.0           True   \n",
       "8        832           1          7              7.0           True   \n",
       "9        934           1          4              4.0           True   \n",
       "\n",
       "  total_time_spent  total_time_seconds  completion_status  \n",
       "0  0 days 00:03:33                 213               True  \n",
       "1  0 days 00:15:48                 948              False  \n",
       "2  0 days 00:02:13                 133               True  \n",
       "3  0 days 00:02:38                 158               True  \n",
       "4  0 days 00:06:17                 377               True  \n",
       "5  0 days 00:09:59                 599               True  \n",
       "6  0 days 00:05:12                 312               True  \n",
       "7  0 days 00:03:38                 218              False  \n",
       "8  0 days 00:02:14                 134               True  \n",
       "9  0 days 00:02:22                 142              False  "
      ]
     },
     "execution_count": 27,
     "metadata": {},
     "output_type": "execute_result"
    }
   ],
   "source": [
    "columnas_ordenadas = ['client_id', 'num_visits', 'num_steps', 'steps_per_visit', 'repeated_step', 'total_time_spent', 'total_time_seconds', 'completion_status']\n",
    "df_web = df_web[columnas_ordenadas]\n",
    "\n",
    "df_web.head(10)"
   ]
  },
  {
   "cell_type": "markdown",
   "metadata": {},
   "source": [
    "## Join dataframes"
   ]
  },
  {
   "cell_type": "code",
   "execution_count": 28,
   "metadata": {},
   "outputs": [],
   "source": [
    "df_complete = df_demo.merge(df_experiment_clients, on='client_id', how='left')\n",
    "df_complete = df_complete.merge(df_web, on='client_id', how='left')"
   ]
  },
  {
   "cell_type": "code",
   "execution_count": 38,
   "metadata": {},
   "outputs": [
    {
     "name": "stdout",
     "output_type": "stream",
     "text": [
      "(70595, 17)\n",
      "   client_id  client_tenure_years  client_tenure_months  client_age gender  \\\n",
      "0     836976                  6.0                  73.0        60.5      U   \n",
      "1    2304905                  7.0                  94.0        58.0      U   \n",
      "2    1439522                  5.0                  64.0        32.0      U   \n",
      "3    1562045                 16.0                 198.0        49.0      M   \n",
      "4    5126305                 12.0                 145.0        33.0      F   \n",
      "5    3727881                  5.0                  71.0        30.5      U   \n",
      "6     272934                  5.0                  66.0        58.5      U   \n",
      "7     388801                 30.0                 361.0        57.5      M   \n",
      "8     285619                 30.0                 369.0        67.5      M   \n",
      "9    8198645                 15.0                 189.0        54.5      F   \n",
      "\n",
      "   num_accounts    balance  calls_last_6_months  logons_last_6_months  \\\n",
      "0           2.0   45105.30                  6.0                   9.0   \n",
      "1           2.0  110860.30                  6.0                   9.0   \n",
      "2           2.0   52467.79                  6.0                   9.0   \n",
      "3           2.0   67454.65                  3.0                   6.0   \n",
      "4           2.0  103671.75                  0.0                   3.0   \n",
      "5           2.0   23915.60                  0.0                   3.0   \n",
      "6           2.0   27021.42                  2.0                   5.0   \n",
      "7           5.0  522498.72                  1.0                   4.0   \n",
      "8           2.0  299388.72                  3.0                   6.0   \n",
      "9           2.0  382303.83                  6.0                   9.0   \n",
      "\n",
      "  experiment_group  num_visits  num_steps  steps_per_visit  repeated_step  \\\n",
      "0             Test           2         11              5.5           True   \n",
      "1          Control           1          6              6.0           True   \n",
      "2             Test           2          5              2.5           True   \n",
      "3             Test           1          1              1.0          False   \n",
      "4          Control           1          1              1.0          False   \n",
      "5          Control           1          7              7.0           True   \n",
      "6          Control           1          5              5.0          False   \n",
      "7             Test           1          5              5.0          False   \n",
      "8          Control           1          9              9.0           True   \n",
      "9             Test           1          5              5.0          False   \n",
      "\n",
      "  total_time_spent  total_time_seconds  completion_status  \n",
      "0  0 days 00:33:54                2034               True  \n",
      "1  0 days 00:04:55                 295               True  \n",
      "2  0 days 00:01:57                 117              False  \n",
      "3  0 days 00:00:00                   0              False  \n",
      "4  0 days 00:00:00                   0              False  \n",
      "5  0 days 00:06:30                 390               True  \n",
      "6  0 days 00:03:56                 236               True  \n",
      "7  0 days 00:09:49                 589               True  \n",
      "8  0 days 00:04:40                 280               True  \n",
      "9  0 days 00:09:42                 582               True  \n",
      "<class 'pandas.core.frame.DataFrame'>\n",
      "RangeIndex: 70595 entries, 0 to 70594\n",
      "Data columns (total 17 columns):\n",
      " #   Column                Non-Null Count  Dtype          \n",
      "---  ------                --------------  -----          \n",
      " 0   client_id             70595 non-null  int64          \n",
      " 1   client_tenure_years   70595 non-null  float64        \n",
      " 2   client_tenure_months  70595 non-null  float64        \n",
      " 3   client_age            70595 non-null  float64        \n",
      " 4   gender                70595 non-null  category       \n",
      " 5   num_accounts          70595 non-null  float64        \n",
      " 6   balance               70595 non-null  float64        \n",
      " 7   calls_last_6_months   70595 non-null  float64        \n",
      " 8   logons_last_6_months  70595 non-null  float64        \n",
      " 9   experiment_group      50488 non-null  category       \n",
      " 10  num_visits            70595 non-null  int64          \n",
      " 11  num_steps             70595 non-null  int64          \n",
      " 12  steps_per_visit       70595 non-null  float64        \n",
      " 13  repeated_step         70595 non-null  bool           \n",
      " 14  total_time_spent      70595 non-null  timedelta64[ns]\n",
      " 15  total_time_seconds    70595 non-null  int32          \n",
      " 16  completion_status     70595 non-null  bool           \n",
      "dtypes: bool(2), category(2), float64(8), int32(1), int64(3), timedelta64[ns](1)\n",
      "memory usage: 7.0 MB\n",
      "None\n"
     ]
    }
   ],
   "source": [
    "explore(df_complete)"
   ]
  },
  {
   "cell_type": "markdown",
   "metadata": {},
   "source": [
    "¿Queremos conservar las entradas a la web de las que no tenemos datos de cliente, ni de si eran parte del experimento?"
   ]
  }
 ],
 "metadata": {
  "kernelspec": {
   "display_name": "base",
   "language": "python",
   "name": "python3"
  },
  "language_info": {
   "codemirror_mode": {
    "name": "ipython",
    "version": 3
   },
   "file_extension": ".py",
   "mimetype": "text/x-python",
   "name": "python",
   "nbconvert_exporter": "python",
   "pygments_lexer": "ipython3",
   "version": "3.12.4"
  }
 },
 "nbformat": 4,
 "nbformat_minor": 2
}
